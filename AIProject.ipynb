{
 "cells": [
  {
   "cell_type": "code",
   "execution_count": 1,
   "metadata": {
    "colab": {
     "base_uri": "https://localhost:8080/",
     "height": 83
    },
    "colab_type": "code",
    "id": "RzdWY7vOR6Xr",
    "outputId": "c49dfd9c-1a93-49f1-ef99-aa5216ab5abf"
   },
   "outputs": [
    {
     "name": "stderr",
     "output_type": "stream",
     "text": [
      "Using TensorFlow backend.\n"
     ]
    }
   ],
   "source": [
    "import tensorflow as tf\n",
    "import numpy as np\n",
    "from sklearn.preprocessing import LabelEncoder\n",
    "import os\n",
    "from sklearn.preprocessing import StandardScaler\n",
    "from sklearn.model_selection import train_test_split\n",
    "from keras.layers import Conv1D, BatchNormalization, Dropout, Flatten, Dense\n",
    "from keras.optimizers import Adam\n",
    "import keras\n",
    "import sklearn\n",
    "from sklearn.model_selection import GridSearchCV\n",
    "from keras.wrappers.scikit_learn import KerasClassifier\n",
    "from keras.models import Sequential\n",
    "\n",
    "import matplotlib.pyplot as plt\n",
    "import pandas as pd\n",
    "from sklearn import metrics\n",
    "import itertools\n",
    "from datetime import datetime"
   ]
  },
  {
   "cell_type": "markdown",
   "metadata": {
    "colab_type": "text",
    "id": "lN4RovbVq_e5"
   },
   "source": [
    "Mounting Google drive to persist data"
   ]
  },
  {
   "cell_type": "code",
   "execution_count": 2,
   "metadata": {
    "colab": {
     "base_uri": "https://localhost:8080/",
     "height": 128
    },
    "colab_type": "code",
    "id": "9LFTSLF1Ts84",
    "outputId": "e0a0a70d-ab5b-4fae-d414-7699e2e2b25e"
   },
   "outputs": [
    {
     "name": "stderr",
     "output_type": "stream",
     "text": [
      "/Users/kunjpatel/opt/anaconda3/lib/python3.7/site-packages/IPython/utils/traitlets.py:5: UserWarning: IPython.utils.traitlets has moved to a top-level traitlets package.\n",
      "  warn(\"IPython.utils.traitlets has moved to a top-level traitlets package.\")\n"
     ]
    },
    {
     "ename": "KeyError",
     "evalue": "'CLOUDSDK_CONFIG'",
     "output_type": "error",
     "traceback": [
      "\u001b[0;31m---------------------------------------------------------------------------\u001b[0m",
      "\u001b[0;31mKeyError\u001b[0m                                  Traceback (most recent call last)",
      "\u001b[0;32m<ipython-input-2-bf3be60014c6>\u001b[0m in \u001b[0;36m<module>\u001b[0;34m()\u001b[0m\n\u001b[1;32m      1\u001b[0m \u001b[0;32mfrom\u001b[0m \u001b[0mgoogle\u001b[0m\u001b[0;34m.\u001b[0m\u001b[0mcolab\u001b[0m \u001b[0;32mimport\u001b[0m \u001b[0mdrive\u001b[0m\u001b[0;34m\u001b[0m\u001b[0;34m\u001b[0m\u001b[0m\n\u001b[0;32m----> 2\u001b[0;31m \u001b[0mdrive\u001b[0m\u001b[0;34m.\u001b[0m\u001b[0mmount\u001b[0m\u001b[0;34m(\u001b[0m\u001b[0;34m'/content/drive'\u001b[0m\u001b[0;34m)\u001b[0m\u001b[0;34m\u001b[0m\u001b[0;34m\u001b[0m\u001b[0m\n\u001b[0m\u001b[1;32m      3\u001b[0m \u001b[0mos\u001b[0m\u001b[0;34m.\u001b[0m\u001b[0mchdir\u001b[0m\u001b[0;34m(\u001b[0m\u001b[0;34mr'/content/drive/My Drive/AI Project Work'\u001b[0m\u001b[0;34m)\u001b[0m\u001b[0;34m\u001b[0m\u001b[0;34m\u001b[0m\u001b[0m\n\u001b[1;32m      4\u001b[0m \u001b[0mROOT_PATH\u001b[0m \u001b[0;34m=\u001b[0m \u001b[0mos\u001b[0m\u001b[0;34m.\u001b[0m\u001b[0mgetcwd\u001b[0m \u001b[0;34m(\u001b[0m\u001b[0;34m)\u001b[0m\u001b[0;34m\u001b[0m\u001b[0;34m\u001b[0m\u001b[0m\n",
      "\u001b[0;32m/Users/kunjpatel/opt/anaconda3/lib/python3.7/site-packages/google/colab/drive.py\u001b[0m in \u001b[0;36mmount\u001b[0;34m(mountpoint, force_remount, timeout_ms)\u001b[0m\n\u001b[1;32m     80\u001b[0m     \u001b[0;32mreturn\u001b[0m\u001b[0;34m\u001b[0m\u001b[0;34m\u001b[0m\u001b[0m\n\u001b[1;32m     81\u001b[0m \u001b[0;34m\u001b[0m\u001b[0m\n\u001b[0;32m---> 82\u001b[0;31m   \u001b[0menv\u001b[0m \u001b[0;34m=\u001b[0m \u001b[0m_env\u001b[0m\u001b[0;34m(\u001b[0m\u001b[0;34m)\u001b[0m\u001b[0;34m\u001b[0m\u001b[0;34m\u001b[0m\u001b[0m\n\u001b[0m\u001b[1;32m     83\u001b[0m   \u001b[0mhome\u001b[0m \u001b[0;34m=\u001b[0m \u001b[0menv\u001b[0m\u001b[0;34m.\u001b[0m\u001b[0mhome\u001b[0m\u001b[0;34m\u001b[0m\u001b[0;34m\u001b[0m\u001b[0m\n\u001b[1;32m     84\u001b[0m   \u001b[0mroot_dir\u001b[0m \u001b[0;34m=\u001b[0m \u001b[0menv\u001b[0m\u001b[0;34m.\u001b[0m\u001b[0mroot_dir\u001b[0m\u001b[0;34m\u001b[0m\u001b[0;34m\u001b[0m\u001b[0m\n",
      "\u001b[0;32m/Users/kunjpatel/opt/anaconda3/lib/python3.7/site-packages/google/colab/drive.py\u001b[0m in \u001b[0;36m_env\u001b[0;34m()\u001b[0m\n\u001b[1;32m     41\u001b[0m   \u001b[0mhome\u001b[0m \u001b[0;34m=\u001b[0m \u001b[0m_os\u001b[0m\u001b[0;34m.\u001b[0m\u001b[0menviron\u001b[0m\u001b[0;34m[\u001b[0m\u001b[0;34m'HOME'\u001b[0m\u001b[0;34m]\u001b[0m\u001b[0;34m\u001b[0m\u001b[0;34m\u001b[0m\u001b[0m\n\u001b[1;32m     42\u001b[0m   root_dir = _os.path.realpath(\n\u001b[0;32m---> 43\u001b[0;31m       _os.path.join(_os.environ['CLOUDSDK_CONFIG'], '../..'))\n\u001b[0m\u001b[1;32m     44\u001b[0m   \u001b[0minet_family\u001b[0m \u001b[0;34m=\u001b[0m \u001b[0;34m'IPV4_ONLY'\u001b[0m\u001b[0;34m\u001b[0m\u001b[0;34m\u001b[0m\u001b[0m\n\u001b[1;32m     45\u001b[0m   \u001b[0mdev\u001b[0m \u001b[0;34m=\u001b[0m \u001b[0;34m'/dev/fuse'\u001b[0m\u001b[0;34m\u001b[0m\u001b[0;34m\u001b[0m\u001b[0m\n",
      "\u001b[0;32m/Users/kunjpatel/opt/anaconda3/lib/python3.7/os.py\u001b[0m in \u001b[0;36m__getitem__\u001b[0;34m(self, key)\u001b[0m\n\u001b[1;32m    677\u001b[0m         \u001b[0;32mexcept\u001b[0m \u001b[0mKeyError\u001b[0m\u001b[0;34m:\u001b[0m\u001b[0;34m\u001b[0m\u001b[0;34m\u001b[0m\u001b[0m\n\u001b[1;32m    678\u001b[0m             \u001b[0;31m# raise KeyError with the original key value\u001b[0m\u001b[0;34m\u001b[0m\u001b[0;34m\u001b[0m\u001b[0;34m\u001b[0m\u001b[0m\n\u001b[0;32m--> 679\u001b[0;31m             \u001b[0;32mraise\u001b[0m \u001b[0mKeyError\u001b[0m\u001b[0;34m(\u001b[0m\u001b[0mkey\u001b[0m\u001b[0;34m)\u001b[0m \u001b[0;32mfrom\u001b[0m \u001b[0;32mNone\u001b[0m\u001b[0;34m\u001b[0m\u001b[0;34m\u001b[0m\u001b[0m\n\u001b[0m\u001b[1;32m    680\u001b[0m         \u001b[0;32mreturn\u001b[0m \u001b[0mself\u001b[0m\u001b[0;34m.\u001b[0m\u001b[0mdecodevalue\u001b[0m\u001b[0;34m(\u001b[0m\u001b[0mvalue\u001b[0m\u001b[0;34m)\u001b[0m\u001b[0;34m\u001b[0m\u001b[0;34m\u001b[0m\u001b[0m\n\u001b[1;32m    681\u001b[0m \u001b[0;34m\u001b[0m\u001b[0m\n",
      "\u001b[0;31mKeyError\u001b[0m: 'CLOUDSDK_CONFIG'"
     ]
    }
   ],
   "source": [
    "from google.colab import drive\n",
    "drive.mount('/content/drive')\n",
    "os.chdir(r'/content/drive/My Drive/AI Project Work')\n",
    "ROOT_PATH = os.getcwd ()"
   ]
  },
  {
   "cell_type": "markdown",
   "metadata": {
    "colab_type": "text",
    "id": "3YlMr9c_rGGv"
   },
   "source": [
    "Transformations to the input MFCC data"
   ]
  },
  {
   "cell_type": "code",
   "execution_count": 0,
   "metadata": {
    "colab": {},
    "colab_type": "code",
    "id": "e_zdPE7-SxNw"
   },
   "outputs": [],
   "source": [
    "def scale_data (x):\n",
    "    scaler = StandardScaler().fit (x)\n",
    "    # scale everything\n",
    "    scaled = scaler.transform(x)\n",
    "    return scaled\n",
    "\n",
    "\n",
    "def getEncodedLabel (inputList):\n",
    "    encoder = LabelEncoder()\n",
    "    encoder.fit (inputList)\n",
    "    classList = encoder.classes_\n",
    "    encodedList = encoder.transform(inputList)\n",
    "    return encodedList, classList"
   ]
  },
  {
   "cell_type": "markdown",
   "metadata": {
    "colab_type": "text",
    "id": "imoJf5GYrU2Q"
   },
   "source": [
    "Read and Transform the input data, Split input to train and with-held test data"
   ]
  },
  {
   "cell_type": "code",
   "execution_count": 0,
   "metadata": {
    "colab": {
     "base_uri": "https://localhost:8080/",
     "height": 53
    },
    "colab_type": "code",
    "id": "HvGlhlHjS8eS",
    "outputId": "920cb95e-a9a4-41c4-f919-b04d2be945d4"
   },
   "outputs": [
    {
     "name": "stdout",
     "output_type": "stream",
     "text": [
      "num emotion: 7\n",
      "emotions: ['Angry' 'Disgust' 'Fear' 'Happy' 'Neutral' 'PS' 'SAD']\n"
     ]
    }
   ],
   "source": [
    "mapDatabyName = {}\n",
    "mapEmotionbyName = {}\n",
    "label_age = []\n",
    "label_emotion = []\n",
    "\n",
    "rawdata = pd.read_csv('MFCC_Emotion.csv', delimiter=',')\n",
    "\n",
    "X = rawdata.iloc[:, :-1]\n",
    "label = rawdata.iloc[:, -1]\n",
    "\n",
    "encoder = LabelEncoder()\n",
    "encoder.fit(label)\n",
    "classList = np.unique(label)\n",
    "num_emotion = len(classList)\n",
    "\n",
    "print('num emotion: {}'.format(len (classList)))\n",
    "print('emotions: {}'.format(classList))\n",
    "\n",
    "y = encoder.transform (label)\n",
    "\n",
    "# train/test split\n",
    "X_train, X_test, Y_train, Y_test = train_test_split (X, y, test_size=0.2, shuffle=True, random_state=123)\n",
    "\n",
    "# reshape to (~, 43, 1)\n",
    "X_train = X_train.values.reshape(-1, 43, 1)\n",
    "X_test = X_test.values.reshape(-1, 43, 1)"
   ]
  },
  {
   "cell_type": "markdown",
   "metadata": {
    "colab_type": "text",
    "id": "8RaUZf0Brkgs"
   },
   "source": [
    "Building Conv Neural Network"
   ]
  },
  {
   "cell_type": "code",
   "execution_count": 0,
   "metadata": {
    "colab": {},
    "colab_type": "code",
    "id": "D53wkxB7bEaA"
   },
   "outputs": [],
   "source": [
    "\"\"\"Build CNN\"\"\"\n",
    "def buildNet(lr=0.001, kernel_size=3, strides=2):\n",
    "    conv1 = Conv1D (filters=128, kernel_size=kernel_size,\n",
    "                                    strides=strides, padding='same',\n",
    "                                    activation='sigmoid',\n",
    "                                    name='conv1')#, input_shape=(43,1))\n",
    "    bn1 = BatchNormalization (name='bn1')\n",
    "    # drop1 = Dropout (rate=0.4, name='drop1')\n",
    "\n",
    "    conv2 = Conv1D (filters=256, kernel_size=kernel_size,\n",
    "                                    strides=strides, padding='same',\n",
    "                                    activation='sigmoid',\n",
    "                                    name='conv2')\n",
    "    bn2 = BatchNormalization (name='bn2')\n",
    "    # drop2 = Dropout (rate=0.4, name='drop2')\n",
    "\n",
    "    flat = Flatten (name='flatten')\n",
    "    fc = Dense (units=128, activation='relu', name='fc2')\n",
    "    # drop3 = Dropout (rate=0.4, name='drop3')\n",
    "    \n",
    "    output = Dense (units=num_emotion, activation='softmax')\n",
    "\n",
    "    model = Sequential([conv1, bn1, conv2, bn2, flat, fc, output])\n",
    "    adam = Adam(lr=lr, beta_1=0.9, beta_2=0.999, epsilon=1e-08)\n",
    "    model.compile(optimizer=adam, loss='categorical_crossentropy', metrics=['accuracy'])\n",
    "    return model"
   ]
  },
  {
   "cell_type": "code",
   "execution_count": 0,
   "metadata": {
    "colab": {},
    "colab_type": "code",
    "id": "-sfeSoO_xyv2"
   },
   "outputs": [],
   "source": [
    "\"\"\" loss plot \"\"\"\n",
    "def plot_loss(epochs, loss, val_loss, class_category = None):\n",
    "    plt.plot(epochs, loss, '--', label= 'Training Loss',lw =2)\n",
    "    plt.plot(epochs, val_loss, '-', label= 'Validation Loss',lw =2)\n",
    "    plt.title('training and validation loss - {}'.format(class_category), fontsize=18)\n",
    "    plt.xlabel('Epochs', fontsize=14)\n",
    "    plt.ylabel('Loss', fontsize=14)\n",
    "    plt.legend(fontsize=12)\n",
    "    plt.tight_layout ()\n",
    "\n",
    "\n",
    "\"\"\" accuracy plot \"\"\"\n",
    "def plot_accuracy(epochs, acc, val_acc, class_category = None):\n",
    "    plt.plot (epochs, acc, '--', label='Training Accuracy', lw=2)\n",
    "    plt.plot (epochs, val_acc, '-', label='Validation Accuracy', lw=2)\n",
    "    plt.title ('training and validation accuracy - {}'.format(class_category), fontsize=18)\n",
    "    plt.xlabel ('Epochs', fontsize=14)\n",
    "    plt.ylabel ('Accuracy', fontsize=14)\n",
    "    plt.legend (fontsize=12)\n",
    "    plt.tight_layout ()\n",
    "    \n",
    "\n",
    "\"\"\" confusion matrix plot \"\"\"\n",
    "def plot_confusion_matrix(cm, classes,normalize=False,\n",
    "                         title='Confusion matrix',\n",
    "                      cmap=plt.cm.PuBu):\n",
    "    \"\"\"\n",
    "    This function prints and plots the confusion matrix.\n",
    "    Normalization can be applied by setting `normalize=True`.\n",
    "    \"\"\"\n",
    "    if normalize:\n",
    "        cm = cm.astype('float') / cm.sum(axis=1)[:, np.newaxis]\n",
    "        print(\"Normalized confusion matrix\")\n",
    "    else:\n",
    "        print('Confusion matrix, without normalization')    \n",
    "        print(cm)    \n",
    "    plt.title(title, fontsize = 16)    \n",
    "    plt.imshow(cm, interpolation='nearest', cmap=cmap)\n",
    "    plt.colorbar()\n",
    "    tick_marks = np.arange(len(classes))\n",
    "    plt.xticks(tick_marks, classes)\n",
    "    plt.yticks(tick_marks, classes)    \n",
    "    fmt = '.2f' if normalize else 'd'\n",
    "    thresh = cm.max() / 2.\n",
    "    for i, j in itertools.product(range(cm.shape[0]), range(cm.shape[1])):\n",
    "        plt.text(j, i, format(cm[i, j], fmt),\n",
    "                 horizontalalignment=\"center\",\n",
    "                 color=\"white\" if cm[i, j] > thresh else \"black\")\n",
    "    plt.clim(0, 1)\n",
    "    plt.ylabel('True label', fontsize =12)\n",
    "    plt.xlabel('Predicted Labels', fontsize=12)\n",
    "    plt.tight_layout ()"
   ]
  },
  {
   "cell_type": "code",
   "execution_count": 0,
   "metadata": {
    "colab": {},
    "colab_type": "code",
    "id": "IBkewI6GXeKK"
   },
   "outputs": [],
   "source": [
    "model = KerasClassifier(build_fn=buildNet, verbose=0)\n",
    "\n",
    "batch_size = [2000, 5000]\n",
    "epochs = [20, 50, 100]\n",
    "learning_rates = [0.001, 0.005, 0.0001]\n",
    "kernel_size = [3, 5]\n",
    "strides = [1, 2]\n",
    "\n",
    "param_grid = {'batch_size':batch_size, 'epochs':epochs, 'lr':learning_rates, 'kernel_size':kernel_size, 'strides':strides}\n",
    "grid = GridSearchCV(estimator=model, param_grid=param_grid, n_jobs=3, cv=3, scoring='accuracy', verbose=10)"
   ]
  },
  {
   "cell_type": "code",
   "execution_count": 0,
   "metadata": {
    "colab": {
     "base_uri": "https://localhost:8080/",
     "height": 590
    },
    "colab_type": "code",
    "id": "Ah9AE92sgjkC",
    "outputId": "a12e545d-ae59-4ed1-800e-cb4061e6c329"
   },
   "outputs": [
    {
     "name": "stdout",
     "output_type": "stream",
     "text": [
      "Fitting 3 folds for each of 4 candidates, totalling 12 fits\n"
     ]
    },
    {
     "name": "stderr",
     "output_type": "stream",
     "text": [
      "[Parallel(n_jobs=3)]: Using backend LokyBackend with 3 concurrent workers.\n",
      "[Parallel(n_jobs=3)]: Done   2 tasks      | elapsed: 113.0min\n",
      "/usr/local/lib/python3.6/dist-packages/joblib/externals/loky/process_executor.py:706: UserWarning: A worker stopped while some jobs were given to the executor. This can be caused by a too short worker timeout or by a memory leak.\n",
      "  \"timeout or by a memory leak.\", UserWarning\n",
      "[Parallel(n_jobs=3)]: Done   7 tasks      | elapsed: 279.4min\n",
      "[Parallel(n_jobs=3)]: Done   9 out of  12 | elapsed: 283.5min remaining: 94.5min\n",
      "[Parallel(n_jobs=3)]: Done  12 out of  12 | elapsed: 338.6min finished\n"
     ]
    },
    {
     "name": "stdout",
     "output_type": "stream",
     "text": [
      "Best: 0.749310 using {'batch_size': 5000, 'epochs': 100, 'lr': 0.001, 'strides': 2}\n",
      "0.720672 (0.007051) with: {'batch_size': 5000, 'epochs': 100, 'lr': 0.001, 'strides': 1}\n",
      "0.749310 (0.001333) with: {'batch_size': 5000, 'epochs': 100, 'lr': 0.001, 'strides': 2}\n",
      "0.717771 (0.015492) with: {'batch_size': 5000, 'epochs': 100, 'lr': 0.0001, 'strides': 1}\n",
      "0.706481 (0.001559) with: {'batch_size': 5000, 'epochs': 100, 'lr': 0.0001, 'strides': 2}\n",
      "(174341,)\n",
      "Normalized confusion matrix\n"
     ]
    },
    {
     "data": {
      "image/png": "[encoded data removed]",
      "text/plain": [
       "<Figure size 432x288 with 2 Axes>"
      ]
     },
     "metadata": {
      "tags": []
     },
     "output_type": "display_data"
    }
   ],
   "source": [
    "grid_result = grid.fit(X_train, Y_train)\n",
    "\n",
    "now = datetime.now()\n",
    "\n",
    "# summarize results\n",
    "print(\"Best: %f using %s\" % (grid_result.best_score_, grid_result.best_params_))\n",
    "means = grid_result.cv_results_['mean_test_score']\n",
    "stds = grid_result.cv_results_['std_test_score']\n",
    "params = grid_result.cv_results_['params']\n",
    "for mean, stdev, param in zip(means, stds, params):\n",
    "    print(\"%f (%f) with: %r\" % (mean, stdev, param))\n",
    "\n",
    "with open('results'+now.strftime(\"%m-%d-%Y-%H:%M:%S\")+'.csv', 'w') as txtfile:\n",
    "    print(\"Best: %f using %s\" % (grid_result.best_score_, grid_result.best_params_), file=txtfile)\n",
    "    means = grid_result.cv_results_['mean_test_score']\n",
    "    stds = grid_result.cv_results_['std_test_score']\n",
    "    params = grid_result.cv_results_['params']\n",
    "    for mean, stdev, param in zip(means, stds, params):\n",
    "        print(\"%f (%f) with: %r\" % (mean, stdev, param), file=txtfile)\n",
    "\n",
    "# get prediction on hold-out test data\n",
    "best_model = grid.best_estimator_\n",
    "Y_test_predict = best_model.predict(X_test)\n",
    "\n",
    "# calculate/plot confusion matrix -\n",
    "print(\"---Test Confusion matrix---\")\n",
    "confusion_matrix = metrics.confusion_matrix(Y_test, Y_test_predict)\n",
    "plt.figure()\n",
    "plot_confusion_matrix(confusion_matrix, classes=classList,normalize=True)\n",
    "plt.savefig(os.path.join( 'rts/confusionmat_MFCC_{}'.format(now.strftime(\"%m-%d-%Y-%H:%M:%S\"))+ '.pdf'), bbox_inches=\"tight\")"
   ]
  },
  {
   "cell_type": "code",
   "execution_count": 0,
   "metadata": {
    "colab": {},
    "colab_type": "code",
    "id": "3JFOeXG0oY0L"
   },
   "outputs": [],
   "source": [
    "best_model = mod"
   ]
  },
  {
   "cell_type": "code",
   "execution_count": 0,
   "metadata": {
    "colab": {
     "base_uri": "https://localhost:8080/",
     "height": 562
    },
    "colab_type": "code",
    "id": "g6pnw1ChoA17",
    "outputId": "fb9ad14d-5b87-4ef7-d56d-7d0f7b5fb4c4"
   },
   "outputs": [
    {
     "name": "stdout",
     "output_type": "stream",
     "text": [
      "-------Train Precision Recall-------\n",
      "              precision    recall  f1-score   support\n",
      "\n",
      "           0       0.86      0.86      0.86     89387\n",
      "           1       0.82      0.84      0.83    118680\n",
      "           2       0.85      0.88      0.87     80795\n",
      "           3       0.85      0.78      0.81     95657\n",
      "           4       0.83      0.86      0.84     99428\n",
      "           5       0.80      0.77      0.78     97178\n",
      "           6       0.87      0.89      0.88    116237\n",
      "\n",
      "    accuracy                           0.84    697362\n",
      "   macro avg       0.84      0.84      0.84    697362\n",
      "weighted avg       0.84      0.84      0.84    697362\n",
      "\n",
      "-------Test Precision Recall-------\n",
      "              precision    recall  f1-score   support\n",
      "\n",
      "           0       0.78      0.78      0.78     22007\n",
      "           1       0.74      0.76      0.75     29756\n",
      "           2       0.77      0.81      0.79     20112\n",
      "           3       0.76      0.70      0.73     23756\n",
      "           4       0.77      0.80      0.78     24972\n",
      "           5       0.70      0.67      0.69     24371\n",
      "           6       0.82      0.84      0.83     29367\n",
      "\n",
      "    accuracy                           0.76    174341\n",
      "   macro avg       0.76      0.76      0.76    174341\n",
      "weighted avg       0.76      0.76      0.76    174341\n",
      "\n"
     ]
    }
   ],
   "source": [
    "# Precision and Recall Metrics\n",
    "\n",
    "Y_train_predicted = best_model.predict(X_train)\n",
    "train_prec_recall = metrics.classification_report(Y_train, Y_train_predicted)\n",
    "print(\"-------Train Precision Recall-------\\n\" + train_prec_recall)\n",
    "\n",
    "Y_test_predicted = best_model.predict(X_test)\n",
    "test_prec_recall = metrics.classification_report(Y_test, Y_test_predicted)\n",
    "print(\"-------Test Precision Recall-------\\n\" + test_prec_recall)"
   ]
  },
  {
   "cell_type": "code",
   "execution_count": 0,
   "metadata": {
    "colab": {
     "base_uri": "https://localhost:8080/",
     "height": 92
    },
    "colab_type": "code",
    "id": "iHvhFd6Bnbnh",
    "outputId": "60735b51-304f-4678-c02e-b4be20156d44"
   },
   "outputs": [
    {
     "name": "stderr",
     "output_type": "stream",
     "text": [
      "/usr/local/lib/python3.6/dist-packages/sklearn/externals/joblib/__init__.py:15: DeprecationWarning: sklearn.externals.joblib is deprecated in 0.21 and will be removed in 0.23. Please import this functionality directly from joblib, which can be installed with: pip install joblib. If this warning is raised when loading pickled models, you may need to re-serialize those models with scikit-learn 0.21+.\n",
      "  warnings.warn(msg, category=DeprecationWarning)\n"
     ]
    },
    {
     "data": {
      "text/plain": [
       "['model-12-03-2019-02:39:25.pkl']"
      ]
     },
     "execution_count": 21,
     "metadata": {
      "tags": []
     },
     "output_type": "execute_result"
    }
   ],
   "source": [
    "# save the model\n",
    "\n",
    "from sklearn.externals import joblib\n",
    "joblib.dump(grid.best_estimator_, 'model-'+now.strftime(\"%m-%d-%Y-%H:%M:%S\")+'.pkl')"
   ]
  },
  {
   "cell_type": "code",
   "execution_count": 0,
   "metadata": {
    "colab": {
     "base_uri": "https://localhost:8080/",
     "height": 1000
    },
    "colab_type": "code",
    "id": "cs6zzDkeznfk",
    "outputId": "d6ed166f-c169-487a-8e43-ded6d6230df4"
   },
   "outputs": [
    {
     "name": "stdout",
     "output_type": "stream",
     "text": [
      "************Checking with test set************\n",
      "-------Loading saved model file: model-12-03-2019-02_39_25.pkl-------\n"
     ]
    },
    {
     "name": "stderr",
     "output_type": "stream",
     "text": [
      "/usr/local/lib/python3.6/dist-packages/sklearn/externals/joblib/__init__.py:15: DeprecationWarning: sklearn.externals.joblib is deprecated in 0.21 and will be removed in 0.23. Please import this functionality directly from joblib, which can be installed with: pip install joblib. If this warning is raised when loading pickled models, you may need to re-serialize those models with scikit-learn 0.21+.\n",
      "  warnings.warn(msg, category=DeprecationWarning)\n"
     ]
    },
    {
     "name": "stdout",
     "output_type": "stream",
     "text": [
      "WARNING:tensorflow:From /usr/local/lib/python3.6/dist-packages/keras/backend/tensorflow_backend.py:541: The name tf.placeholder is deprecated. Please use tf.compat.v1.placeholder instead.\n",
      "\n",
      "WARNING:tensorflow:From /usr/local/lib/python3.6/dist-packages/keras/backend/tensorflow_backend.py:4432: The name tf.random_uniform is deprecated. Please use tf.random.uniform instead.\n",
      "\n",
      "WARNING:tensorflow:From /usr/local/lib/python3.6/dist-packages/keras/backend/tensorflow_backend.py:66: The name tf.get_default_graph is deprecated. Please use tf.compat.v1.get_default_graph instead.\n",
      "\n",
      "WARNING:tensorflow:From /usr/local/lib/python3.6/dist-packages/keras/backend/tensorflow_backend.py:148: The name tf.placeholder_with_default is deprecated. Please use tf.compat.v1.placeholder_with_default instead.\n",
      "\n",
      "WARNING:tensorflow:From /usr/local/lib/python3.6/dist-packages/keras/backend/tensorflow_backend.py:190: The name tf.get_default_session is deprecated. Please use tf.compat.v1.get_default_session instead.\n",
      "\n",
      "WARNING:tensorflow:From /usr/local/lib/python3.6/dist-packages/keras/backend/tensorflow_backend.py:197: The name tf.ConfigProto is deprecated. Please use tf.compat.v1.ConfigProto instead.\n",
      "\n",
      "WARNING:tensorflow:From /usr/local/lib/python3.6/dist-packages/keras/backend/tensorflow_backend.py:203: The name tf.Session is deprecated. Please use tf.compat.v1.Session instead.\n",
      "\n",
      "WARNING:tensorflow:From /usr/local/lib/python3.6/dist-packages/keras/backend/tensorflow_backend.py:207: The name tf.global_variables is deprecated. Please use tf.compat.v1.global_variables instead.\n",
      "\n",
      "WARNING:tensorflow:From /usr/local/lib/python3.6/dist-packages/keras/backend/tensorflow_backend.py:216: The name tf.is_variable_initialized is deprecated. Please use tf.compat.v1.is_variable_initialized instead.\n",
      "\n",
      "WARNING:tensorflow:From /usr/local/lib/python3.6/dist-packages/keras/backend/tensorflow_backend.py:223: The name tf.variables_initializer is deprecated. Please use tf.compat.v1.variables_initializer instead.\n",
      "\n",
      "WARNING:tensorflow:From /usr/local/lib/python3.6/dist-packages/keras/optimizers.py:793: The name tf.train.Optimizer is deprecated. Please use tf.compat.v1.train.Optimizer instead.\n",
      "\n",
      "WARNING:tensorflow:From /usr/local/lib/python3.6/dist-packages/keras/backend/tensorflow_backend.py:3576: The name tf.log is deprecated. Please use tf.math.log instead.\n",
      "\n",
      "WARNING:tensorflow:From /usr/local/lib/python3.6/dist-packages/tensorflow_core/python/ops/math_grad.py:1424: where (from tensorflow.python.ops.array_ops) is deprecated and will be removed in a future version.\n",
      "Instructions for updating:\n",
      "Use tf.where in 2.0, which has the same broadcast rule as np.where\n",
      "WARNING:tensorflow:From /usr/local/lib/python3.6/dist-packages/keras/backend/tensorflow_backend.py:1033: The name tf.assign_add is deprecated. Please use tf.compat.v1.assign_add instead.\n",
      "\n",
      "WARNING:tensorflow:From /usr/local/lib/python3.6/dist-packages/keras/backend/tensorflow_backend.py:1020: The name tf.assign is deprecated. Please use tf.compat.v1.assign instead.\n",
      "\n",
      "Accuracy: 0.7647828106985735\n",
      "Confusion Matrix:\n",
      " [[17099   906   958   709   733   993   609]\n",
      " [  760 22530   843  1031  1231  2175  1186]\n",
      " [  919   626 16204   676   362   787   538]\n",
      " [  959  1438  1137 16633   917  2017   655]\n",
      " [  557  1060   367   660 19863   587  1878]\n",
      " [ 1097  2600  1050  1813   788 16374   649]\n",
      " [  444  1113   423   359  1968   430 24630]]\n",
      "Normalized confusion matrix\n"
     ]
    },
    {
     "data": {
      "image/png": "[encoded data removed]",
      "text/plain": [
       "<Figure size 432x288 with 2 Axes>"
      ]
     },
     "metadata": {
      "tags": []
     },
     "output_type": "display_data"
    }
   ],
   "source": [
    "# Load the saved model\n",
    "\n",
    "model_file = 'model-12-03-2019-02_39_25.pkl'\n",
    "\n",
    "print(\"************Checking with test set************\")\n",
    "from sklearn.externals import joblib\n",
    "\n",
    "print(\"-------Loading saved model file: \"+model_file+\"-------\")\n",
    "mod = joblib.load(model_file)\n",
    "y_pred = mod.predict(X_test)\n",
    "print(\"Accuracy:\",metrics.accuracy_score(Y_test, y_pred))\n",
    "conf_matrix=metrics.confusion_matrix(Y_test, y_pred)\n",
    "print(\"Confusion Matrix:\\n\",conf_matrix)\n",
    "plt.figure()\n",
    "plot_confusion_matrix(conf_matrix, classes=classList,normalize=True)"
   ]
  },
  {
   "cell_type": "code",
   "execution_count": 0,
   "metadata": {
    "colab": {},
    "colab_type": "code",
    "id": "ggPlEelZCFbT"
   },
   "outputs": [],
   "source": []
  }
 ],
 "metadata": {
  "accelerator": "GPU",
  "colab": {
   "collapsed_sections": [],
   "name": "AIProject.ipynb",
   "provenance": []
  },
  "kernelspec": {
   "display_name": "Python 3",
   "language": "python",
   "name": "python3"
  },
  "language_info": {
   "codemirror_mode": {
    "name": "ipython",
    "version": 3
   },
   "file_extension": ".py",
   "mimetype": "text/x-python",
   "name": "python",
   "nbconvert_exporter": "python",
   "pygments_lexer": "ipython3",
   "version": "3.7.6"
  }
 },
 "nbformat": 4,
 "nbformat_minor": 1
}
